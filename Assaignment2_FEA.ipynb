{
 "cells": [
  {
   "cell_type": "code",
   "execution_count": 1,
   "id": "4a293cc3-ba60-4a03-a3d4-47941330325c",
   "metadata": {},
   "outputs": [],
   "source": [
    "import sympy as smp\n",
    "from sympy import *\n",
    "from sympy.interactive import printing\n",
    "printing.init_printing(use_latex = True)\n",
    "from sympy import Eq, solve_linear_system, Matrix\n",
    "from numpy import linalg\n",
    "import numpy as np"
   ]
  },
  {
   "cell_type": "code",
   "execution_count": 2,
   "id": "10a9ea81-8a35-4ffd-adf3-e5311ecce542",
   "metadata": {},
   "outputs": [],
   "source": [
    "eq1 = smp.Function('eq1')\n",
    "eq2 = smp.Function('eq2')\n",
    "eq3 = smp.Function('eq3')"
   ]
  },
  {
   "cell_type": "code",
   "execution_count": 3,
   "id": "8a6e30d5-b19c-4203-8ad4-c85f96eebdf8",
   "metadata": {},
   "outputs": [],
   "source": [
    "\n",
    "C2 = smp.symbols('C2')\n",
    "C3 = smp.symbols('C3')\n",
    "C4 = smp.symbols('C4')"
   ]
  },
  {
   "cell_type": "code",
   "execution_count": 4,
   "id": "5f021300-6e82-4ca6-b794-88c8f89d5101",
   "metadata": {},
   "outputs": [],
   "source": [
    "x = smp.symbols('x')"
   ]
  },
  {
   "cell_type": "code",
   "execution_count": 5,
   "id": "001bd6bd-59eb-4370-93f3-689577e93704",
   "metadata": {},
   "outputs": [],
   "source": [
    "h = 20\n",
    "k = 200\n",
    "d= 0.001\n",
    "L = 0.05\n",
    "To = 30\n",
    "Tw = 300\n",
    "P = np.pi*d\n",
    "A = (np.pi*d**2)/4\n",
    "m = (P*h)/(k*A)\n",
    "n = np.sqrt(m)"
   ]
  },
  {
   "cell_type": "code",
   "execution_count": 6,
   "id": "9ee524cf-7bb3-4328-94dc-cb9dba8db031",
   "metadata": {},
   "outputs": [
    {
     "data": {
      "image/png": "[encoded data removed]",
      "text/latex": [
       "$\\displaystyle \\left( 400.0, \\  0.00314159265358979, \\  7.85398163397448 \\cdot 10^{-7}\\right)$"
      ],
      "text/plain": [
       "(400.00000000000006, 0.0031415926535897933, 7.853981633974482e-07)"
      ]
     },
     "execution_count": 6,
     "metadata": {},
     "output_type": "execute_result"
    }
   ],
   "source": [
    "m, P, A"
   ]
  },
  {
   "cell_type": "markdown",
   "id": "02502bef-08cf-48b7-88fd-2d68d40264c1",
   "metadata": {},
   "source": [
    "## Case 1"
   ]
  },
  {
   "cell_type": "code",
   "execution_count": 7,
   "id": "b5c28c7f-be08-4a8d-995f-fd5985b62858",
   "metadata": {
    "tags": []
   },
   "outputs": [
    {
     "name": "stderr",
     "output_type": "stream",
     "text": [
      "C:\\Users\\My Account\\anaconda3\\lib\\site-packages\\sympy\\core\\relational.py:495: SymPyDeprecationWarning: \n",
      "\n",
      "Eq(expr) with rhs default to 0 has been deprecated since SymPy 1.5.\n",
      "Use Eq(expr, 0) instead. See\n",
      "https://github.com/sympy/sympy/issues/16587 for more info.\n",
      "\n",
      "  SymPyDeprecationWarning(\n"
     ]
    }
   ],
   "source": [
    "W1 = (x**2 - 2*L*x)\n",
    "\n",
    "T_cap1 = 300 + C2*W1\n",
    "\n",
    "Rd = (2*C2) - m*(T_cap1 - To)\n",
    "\n",
    "eq1 = Eq(smp.integrate( W1*Rd, (x,0,L)))"
   ]
  },
  {
   "cell_type": "code",
   "execution_count": 8,
   "id": "47f6289f-bb37-446b-bcb6-de7701beed1a",
   "metadata": {},
   "outputs": [
    {
     "data": {
      "image/png": "[encoded data removed]",
      "text/latex": [
       "$\\displaystyle 9.0 - 0.000233333333333333 C_{2} = 0$"
      ],
      "text/plain": [
       "9.0 - 0.000233333333333333⋅C₂ = 0"
      ]
     },
     "metadata": {},
     "output_type": "display_data"
    }
   ],
   "source": [
    "display(eq1)"
   ]
  },
  {
   "cell_type": "code",
   "execution_count": 9,
   "id": "ba2b25ef-cf23-4504-9ee6-39d80c6bd732",
   "metadata": {},
   "outputs": [
    {
     "data": {
      "image/png": "[encoded data removed]",
      "text/latex": [
       "$\\displaystyle 38571.4285714286$"
      ],
      "text/plain": [
       "38571.42857142862"
      ]
     },
     "execution_count": 9,
     "metadata": {},
     "output_type": "execute_result"
    }
   ],
   "source": [
    "9.0/0.000233333333333333"
   ]
  },
  {
   "cell_type": "markdown",
   "id": "8a12667a-f8c7-4aa2-be0d-0210f47bb638",
   "metadata": {},
   "source": [
    "## Case 2"
   ]
  },
  {
   "cell_type": "code",
   "execution_count": 10,
   "id": "96cf2e88-d324-4258-a164-b746ff322461",
   "metadata": {
    "tags": []
   },
   "outputs": [],
   "source": [
    "\n",
    "W1 = (x**2 - 2*L*x)\n",
    "W2 = (x**3 - 3*(L**2)*x)\n",
    "\n",
    "T_cap2 = Tw + C2*W1 +C3*W2\n",
    "Rd = (2*C2 + 6*C3*x) - m*(T_cap2 - To)\n",
    "\n",
    "eq1 = Eq(smp.integrate( W1*Rd, (x,0,L)))"
   ]
  },
  {
   "cell_type": "code",
   "execution_count": 11,
   "id": "15bbf3c3-041f-45e7-a2f9-952f70161424",
   "metadata": {},
   "outputs": [],
   "source": [
    "eq2 = Eq(smp.integrate( W2*Rd, (x,0,L)))"
   ]
  },
  {
   "cell_type": "code",
   "execution_count": 12,
   "id": "e27f153e-c47e-43ba-988b-5efc91aed545",
   "metadata": {},
   "outputs": [
    {
     "data": {
      "image/png": "[encoded data removed]",
      "text/latex": [
       "$\\displaystyle - 0.000233333333333333 C_{2} - 2.19791666666667 \\cdot 10^{-5} C_{3} + 9.0 = 0$"
      ],
      "text/plain": [
       "-0.000233333333333333⋅C₂ - 2.19791666666667e-5⋅C₃ + 9.0 = 0"
      ]
     },
     "metadata": {},
     "output_type": "display_data"
    },
    {
     "data": {
      "image/png": "[encoded data removed]",
      "text/latex": [
       "$\\displaystyle - 2.19791666666667 \\cdot 10^{-5} C_{2} - 2.10714285714286 \\cdot 10^{-6} C_{3} + 0.84375 = 0$"
      ],
      "text/plain": [
       "-2.19791666666667e-5⋅C₂ - 2.10714285714286e-6⋅C₃ + 0.84375 = 0"
      ]
     },
     "metadata": {},
     "output_type": "display_data"
    }
   ],
   "source": [
    "display(eq1)\n",
    "display(eq2)"
   ]
  },
  {
   "cell_type": "code",
   "execution_count": 13,
   "id": "115b3468-e976-443a-8697-d327240734ab",
   "metadata": {},
   "outputs": [],
   "source": [
    "row1 = [-1.3333328e-9, -2.49999898333333e-12, -8.66666666666667e-8]\n",
    "row2 = [-2.49999898333333e-12, -4.79999805714286e-15, -1.625e-10]"
   ]
  },
  {
   "cell_type": "code",
   "execution_count": 14,
   "id": "f9499e03-dde3-470f-8c92-4c5ff6fcea3e",
   "metadata": {},
   "outputs": [
    {
     "data": {
      "image/png": "[encoded data removed]",
      "text/latex": [
       "$\\displaystyle \\left[ -1.3333328 \\cdot 10^{-9}, \\  -2.49999898333333 \\cdot 10^{-12}, \\  -8.66666666666667 \\cdot 10^{-8}\\right]$"
      ],
      "text/plain": [
       "[-1.3333328e-09, -2.49999898333333e-12, -8.66666666666667e-08]"
      ]
     },
     "execution_count": 14,
     "metadata": {},
     "output_type": "execute_result"
    }
   ],
   "source": [
    "row1"
   ]
  },
  {
   "cell_type": "code",
   "execution_count": 15,
   "id": "5eaea583-b2e9-45a5-9e62-d6e48d327b35",
   "metadata": {},
   "outputs": [],
   "source": [
    "system = Matrix((row1, row2))"
   ]
  },
  {
   "cell_type": "code",
   "execution_count": 16,
   "id": "2be6f9c7-8c97-46db-9c84-ee3fb6d0c2ae",
   "metadata": {},
   "outputs": [
    {
     "data": {
      "text/latex": [
       "$\\displaystyle \\left[\\begin{matrix}-1.3333328 \\cdot 10^{-9} & -2.49999898333333 \\cdot 10^{-12} & -8.66666666666667 \\cdot 10^{-8}\\\\-2.49999898333333 \\cdot 10^{-12} & -4.79999805714286 \\cdot 10^{-15} & -1.625 \\cdot 10^{-10}\\end{matrix}\\right]$"
      ],
      "text/plain": [
       "⎡    -1.3333328e-9      -2.49999898333333e-12  -8.66666666666667e-8⎤\n",
       "⎢                                                                  ⎥\n",
       "⎣-2.49999898333333e-12  -4.79999805714286e-15       -1.625e-10     ⎦"
      ]
     },
     "metadata": {},
     "output_type": "display_data"
    }
   ],
   "source": [
    "display(system)"
   ]
  },
  {
   "cell_type": "code",
   "execution_count": 17,
   "id": "9ff3ded1-b11c-4683-8e96-779d56efba64",
   "metadata": {},
   "outputs": [
    {
     "data": {
      "image/png": "[encoded data removed]",
      "text/latex": [
       "$\\displaystyle \\left\\{ C_{2} : 65.0000079444444, \\  C_{3} : 0.00962963527798089\\right\\}$"
      ],
      "text/plain": [
       "{C₂: 65.0000079444444, C₃: 0.00962963527798089}"
      ]
     },
     "metadata": {},
     "output_type": "display_data"
    }
   ],
   "source": [
    "display(solve_linear_system(system,C2,C3))"
   ]
  },
  {
   "cell_type": "markdown",
   "id": "e496493a-565f-4375-b558-efcc81294b3f",
   "metadata": {},
   "source": [
    "## Case 3"
   ]
  },
  {
   "cell_type": "code",
   "execution_count": 18,
   "id": "62b956de-6dca-4b41-84fc-1a4d4c6563da",
   "metadata": {
    "tags": []
   },
   "outputs": [],
   "source": [
    "\n",
    "W1 = (x**2 - 2*L*x)\n",
    "W2 = (x**3 - 3*(L**2)*x)\n",
    "W3 = (x**4 - 4*(L**3)*x)\n",
    "\n",
    "T_cap3 = Tw + C2*W1 + C3*W2 + C4*W3\n",
    "Rd = (2*C2 + 6*C3*x + 12*C4*(x**2)) - m*(T_cap3 -To)\n",
    "\n",
    "eq1 = Eq(smp.integrate( W1*Rd, (x,0,L)))"
   ]
  },
  {
   "cell_type": "code",
   "execution_count": 19,
   "id": "32126aea-83d2-4aa5-89d4-3f5848ce346b",
   "metadata": {},
   "outputs": [
    {
     "data": {
      "image/png": "[encoded data removed]",
      "text/latex": [
       "$\\displaystyle - 0.000233333333333333 C_{2} - 2.19791666666667 \\cdot 10^{-5} C_{3} - 1.58630952380952 \\cdot 10^{-6} C_{4} + 9.0 = 0$"
      ],
      "text/plain": [
       "-0.000233333333333333⋅C₂ - 2.19791666666667e-5⋅C₃ - 1.58630952380952e-6⋅C₄ + 9\n",
       ".0 = 0"
      ]
     },
     "metadata": {},
     "output_type": "display_data"
    }
   ],
   "source": [
    "display(eq1)"
   ]
  },
  {
   "cell_type": "code",
   "execution_count": 20,
   "id": "9493eca9-0d39-4667-8842-87e42d7dde12",
   "metadata": {
    "tags": []
   },
   "outputs": [],
   "source": [
    "eq2 = Eq(smp.integrate( W2*Rd, (x,0,L)))"
   ]
  },
  {
   "cell_type": "code",
   "execution_count": 21,
   "id": "1935b904-923c-4fa1-8b4f-a473dece9701",
   "metadata": {},
   "outputs": [],
   "source": [
    "eq3 = Eq(smp.integrate( W3*Rd, (x,0,L)))"
   ]
  },
  {
   "cell_type": "code",
   "execution_count": 22,
   "id": "9e7c6306-b4dc-48f5-b9d5-c723381eb476",
   "metadata": {},
   "outputs": [
    {
     "data": {
      "image/png": "[encoded data removed]",
      "text/latex": [
       "$\\displaystyle - 0.000233333333333333 C_{2} - 2.19791666666667 \\cdot 10^{-5} C_{3} - 1.58630952380952 \\cdot 10^{-6} C_{4} + 9.0 = 0$"
      ],
      "text/plain": [
       "-0.000233333333333333⋅C₂ - 2.19791666666667e-5⋅C₃ - 1.58630952380952e-6⋅C₄ + 9\n",
       ".0 = 0"
      ]
     },
     "metadata": {},
     "output_type": "display_data"
    },
    {
     "data": {
      "image/png": "[encoded data removed]",
      "text/latex": [
       "$\\displaystyle - 2.19791666666667 \\cdot 10^{-5} C_{2} - 2.10714285714286 \\cdot 10^{-6} C_{3} - 1.53515625 \\cdot 10^{-7} C_{4} + 0.84375 = 0$"
      ],
      "text/plain": [
       "-2.19791666666667e-5⋅C₂ - 2.10714285714286e-6⋅C₃ - 1.53515625e-7⋅C₄ + 0.84375 \n",
       "= 0"
      ]
     },
     "metadata": {},
     "output_type": "display_data"
    },
    {
     "data": {
      "image/png": "[encoded data removed]",
      "text/latex": [
       "$\\displaystyle - 1.58630952380952 \\cdot 10^{-6} C_{2} - 1.53515625 \\cdot 10^{-7} C_{3} - 1.12475198412698 \\cdot 10^{-8} C_{4} + 0.06075 = 0$"
      ],
      "text/plain": [
       "-1.58630952380952e-6⋅C₂ - 1.53515625e-7⋅C₃ - 1.12475198412698e-8⋅C₄ + 0.06075 \n",
       "= 0"
      ]
     },
     "metadata": {},
     "output_type": "display_data"
    }
   ],
   "source": [
    "display(eq1)\n",
    "display(eq2)\n",
    "display(eq3)"
   ]
  },
  {
   "cell_type": "code",
   "execution_count": 23,
   "id": "5629fa0a-8012-4c55-a2c5-8c336bfb8808",
   "metadata": {},
   "outputs": [],
   "source": [
    "row1 = [-1.33354666666667e-9, -2.50040666666667e-12, -3.60059047619048e-15, -7.2e-5]\n",
    "row2 = [-2.50040666666667e-12, -4.80077714285714e-15, -7.00113e-18, -1.35e-7]\n",
    "row3 = [-3.60059047619048e-15, -7.00113e-18, -1.02873587301587e-20, -1.944e-10]"
   ]
  },
  {
   "cell_type": "code",
   "execution_count": 24,
   "id": "e19600ce-bd7f-49b2-8b93-ae24da275695",
   "metadata": {},
   "outputs": [],
   "source": [
    "system = Matrix((row1, row2, row3))"
   ]
  },
  {
   "cell_type": "code",
   "execution_count": 25,
   "id": "4bf811db-a40b-4b4f-89c0-205fbc311929",
   "metadata": {},
   "outputs": [
    {
     "data": {
      "text/latex": [
       "$\\displaystyle \\left[\\begin{matrix}-1.33354666666667 \\cdot 10^{-9} & -2.50040666666667 \\cdot 10^{-12} & -3.60059047619048 \\cdot 10^{-15} & -7.2 \\cdot 10^{-5}\\\\-2.50040666666667 \\cdot 10^{-12} & -4.80077714285714 \\cdot 10^{-15} & -7.00113 \\cdot 10^{-18} & -1.35 \\cdot 10^{-7}\\\\-3.60059047619048 \\cdot 10^{-15} & -7.00113 \\cdot 10^{-18} & -1.02873587301587 \\cdot 10^{-20} & -1.944 \\cdot 10^{-10}\\end{matrix}\\right]$"
      ],
      "text/plain": [
       "⎡-1.33354666666667e-9   -2.50040666666667e-12  -3.60059047619048e-15   -7.2e-5\n",
       "⎢                                                                             \n",
       "⎢-2.50040666666667e-12  -4.80077714285714e-15      -7.00113e-18        -1.35e-\n",
       "⎢                                                                             \n",
       "⎣-3.60059047619048e-15      -7.00113e-18       -1.02873587301587e-20  -1.944e-\n",
       "\n",
       "  ⎤\n",
       "  ⎥\n",
       "7 ⎥\n",
       "  ⎥\n",
       "10⎦"
      ]
     },
     "metadata": {},
     "output_type": "display_data"
    }
   ],
   "source": [
    "display(system)"
   ]
  },
  {
   "cell_type": "code",
   "execution_count": 26,
   "id": "2c7009bf-f9d1-4373-85f4-f0e665f92f07",
   "metadata": {},
   "outputs": [
    {
     "data": {
      "image/png": "[encoded data removed]",
      "text/latex": [
       "$\\displaystyle \\left\\{ C_{2} : 53999.9999314248, \\  C_{3} : -7198.82874001508, \\  C_{4} : 1799730.03444018\\right\\}$"
      ],
      "text/plain": [
       "{C₂: 53999.9999314248, C₃: -7198.82874001508, C₄: 1799730.03444018}"
      ]
     },
     "metadata": {},
     "output_type": "display_data"
    }
   ],
   "source": [
    "display(solve_linear_system(system,C2,C3,C4))"
   ]
  },
  {
   "cell_type": "code",
   "execution_count": 27,
   "id": "d8ecb732-8bf4-4a19-9300-a2d947b681a9",
   "metadata": {},
   "outputs": [
    {
     "data": {
      "image/png": "[encoded data removed]",
      "text/latex": [
       "$\\displaystyle C_{2} \\left(x^{2} - 0.1 x\\right) + C_{3} \\left(x^{3} - 0.0075 x\\right) + C_{4} \\left(x^{4} - 0.0005 x\\right) + 300$"
      ],
      "text/plain": [
       "   ⎛ 2        ⎞      ⎛ 3           ⎞      ⎛ 4           ⎞      \n",
       "C₂⋅⎝x  - 0.1⋅x⎠ + C₃⋅⎝x  - 0.0075⋅x⎠ + C₄⋅⎝x  - 0.0005⋅x⎠ + 300"
      ]
     },
     "execution_count": 27,
     "metadata": {},
     "output_type": "execute_result"
    }
   ],
   "source": [
    "T_cap3"
   ]
  },
  {
   "cell_type": "markdown",
   "id": "65d5efb9-c3ff-4b02-ba32-5d7afd67bc16",
   "metadata": {},
   "source": [
    "## Plotting"
   ]
  },
  {
   "cell_type": "code",
   "execution_count": 28,
   "id": "36975ec9-13fa-40da-90b4-f4bcdc6ae7c7",
   "metadata": {},
   "outputs": [],
   "source": [
    "import matplotlib.pyplot as plt"
   ]
  },
  {
   "cell_type": "code",
   "execution_count": 29,
   "id": "bb330eb5-d702-4f13-afcd-8060cd58a2e1",
   "metadata": {},
   "outputs": [],
   "source": [
    "x = np.linspace(0,0.05,100)"
   ]
  },
  {
   "cell_type": "code",
   "execution_count": 30,
   "id": "1d850b29-6c29-4736-8d49-166d57dd81c4",
   "metadata": {},
   "outputs": [],
   "source": [
    "𝐶21 = 38571.4285714286"
   ]
  },
  {
   "cell_type": "code",
   "execution_count": 31,
   "id": "5ef1cd87-7fb0-4791-987c-840169fc3016",
   "metadata": {},
   "outputs": [
    {
     "data": {
      "text/plain": [
       "[<matplotlib.lines.Line2D at 0x265244a1100>]"
      ]
     },
     "execution_count": 31,
     "metadata": {},
     "output_type": "execute_result"
    },
    {
     "data": {
      "image/png": "[encoded data removed]",
      "text/plain": [
       "<Figure size 432x288 with 1 Axes>"
      ]
     },
     "metadata": {
      "needs_background": "light"
     },
     "output_type": "display_data"
    }
   ],
   "source": [
    "T_cap1 = Tw + 𝐶21*(x**2 - 2*L*x)\n",
    "plt.plot(x,T_cap1)"
   ]
  },
  {
   "cell_type": "code",
   "execution_count": 32,
   "id": "d2933414-70e5-45c2-8c61-75dd84d3f2a6",
   "metadata": {},
   "outputs": [],
   "source": [
    "𝐶32 = 0.00962963527798089"
   ]
  },
  {
   "cell_type": "code",
   "execution_count": 33,
   "id": "b7370ab2-219b-43fc-972c-f8bbe82d5fa0",
   "metadata": {},
   "outputs": [],
   "source": [
    "𝐶22 = 65.0000079444444"
   ]
  },
  {
   "cell_type": "code",
   "execution_count": 34,
   "id": "02bddedd-9b0f-431b-b8bf-c8cf92fa716c",
   "metadata": {},
   "outputs": [],
   "source": [
    "T_cap2 = Tw + 𝐶22*(x**2 - 2*L*x) + 𝐶32*(x**3 - 3*(L**2)*x)"
   ]
  },
  {
   "cell_type": "code",
   "execution_count": 35,
   "id": "b1b04b81-0ff9-49a3-99e7-631497a4d3c4",
   "metadata": {},
   "outputs": [
    {
     "data": {
      "text/plain": [
       "[<matplotlib.lines.Line2D at 0x26524bb83d0>]"
      ]
     },
     "execution_count": 35,
     "metadata": {},
     "output_type": "execute_result"
    },
    {
     "data": {
      "image/png": "[encoded data removed]",
      "text/plain": [
       "<Figure size 432x288 with 1 Axes>"
      ]
     },
     "metadata": {
      "needs_background": "light"
     },
     "output_type": "display_data"
    }
   ],
   "source": [
    "plt.plot(x,T_cap2)"
   ]
  },
  {
   "cell_type": "code",
   "execution_count": 36,
   "id": "f8dee871-102f-47f5-9a9d-d1e08cd6e8bb",
   "metadata": {},
   "outputs": [],
   "source": [
    "𝐶23 = 53999.9999314248"
   ]
  },
  {
   "cell_type": "code",
   "execution_count": 37,
   "id": "cc7c1dd5-bbd6-40c7-ac89-b34799048b2a",
   "metadata": {},
   "outputs": [],
   "source": [
    "𝐶33 = -7198.82874001508"
   ]
  },
  {
   "cell_type": "code",
   "execution_count": 38,
   "id": "d32eaff3-4e25-4809-8882-629c535d9f44",
   "metadata": {},
   "outputs": [],
   "source": [
    "𝐶43 = 1799730.03444018"
   ]
  },
  {
   "cell_type": "code",
   "execution_count": 39,
   "id": "ca7c8291-8f9d-4037-8ae1-eaa7413c563c",
   "metadata": {},
   "outputs": [],
   "source": [
    "T_cap3 = Tw + 𝐶23*(x**2 - 2*L*x) + 𝐶33*(x**3 - 3*(L**2)*x) + 𝐶43*(x**4 - 4*(L**3)*x)"
   ]
  },
  {
   "cell_type": "code",
   "execution_count": 40,
   "id": "7db61357-9373-4687-b2a0-0d536f0c4b64",
   "metadata": {},
   "outputs": [
    {
     "data": {
      "text/plain": [
       "[<matplotlib.lines.Line2D at 0x26524c1cbe0>]"
      ]
     },
     "execution_count": 40,
     "metadata": {},
     "output_type": "execute_result"
    },
    {
     "data": {
      "image/png": "[encoded data removed]",
      "text/plain": [
       "<Figure size 432x288 with 1 Axes>"
      ]
     },
     "metadata": {
      "needs_background": "light"
     },
     "output_type": "display_data"
    }
   ],
   "source": [
    "plt.plot(x,T_cap3)"
   ]
  },
  {
   "cell_type": "code",
   "execution_count": 41,
   "id": "19a9cab8-4dc5-45d5-be9e-d0371abed94d",
   "metadata": {},
   "outputs": [],
   "source": [
    "T_exact = To + ((Tw - To)/(np.cosh(n*L)))*(np.cosh(n*(L-x)))"
   ]
  },
  {
   "cell_type": "code",
   "execution_count": 44,
   "id": "8feffdab-ada8-4497-aa91-66754109602e",
   "metadata": {},
   "outputs": [
    {
     "data": {
      "image/png": "[encoded data removed]",
      "text/plain": [
       "<Figure size 432x288 with 1 Axes>"
      ]
     },
     "metadata": {
      "needs_background": "light"
     },
     "output_type": "display_data"
    }
   ],
   "source": [
    "plt.plot(x,T_cap1,label='Quadratic')\n",
    "plt.plot(x,T_cap2,label='Cubic')\n",
    "plt.plot(x,T_cap3,label='Quartic')\n",
    "plt.plot(x,T_exact,label='Exact sol')\n",
    "plt.plot()\n",
    "plt.legend()\n",
    "plt.savefig(\"FEA.pdf\")"
   ]
  },
  {
   "cell_type": "code",
   "execution_count": null,
   "id": "80f53a53-2576-4b4c-a57b-95f000004014",
   "metadata": {},
   "outputs": [],
   "source": []
  }
 ],
 "metadata": {
  "kernelspec": {
   "display_name": "Python 3",
   "language": "python",
   "name": "python3"
  },
  "language_info": {
   "codemirror_mode": {
    "name": "ipython",
    "version": 3
   },
   "file_extension": ".py",
   "mimetype": "text/x-python",
   "name": "python",
   "nbconvert_exporter": "python",
   "pygments_lexer": "ipython3",
   "version": "3.8.8"
  },
  "widgets": {
   "application/vnd.jupyter.widget-state+json": {
    "state": {},
    "version_major": 2,
    "version_minor": 0
   }
  }
 },
 "nbformat": 4,
 "nbformat_minor": 5
}
